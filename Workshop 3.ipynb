{
 "cells": [
  {
   "cell_type": "markdown",
   "metadata": {},
   "source": [
    "The quantitative introduction workshops\n",
    "\n",
    "# Workshop 3\n",
    "\n",
    "If you have attended (physically or virtually) at least one of the first two workshops, and you haven't responded to the [halfway evaluation survey](https://docs.google.com/forms/d/1o0_lrqVGSpMt_0Wk3u0iCGnaQ2IFdKzjbN28COI8bf4/edit) yet, then please do it now - it would be a great help for me. The survey should take less than 5 minutes.\n",
    "\n",
    "In this workshop you will learn\n",
    "\n",
    "* Linear models with multiple predictors\n",
    "* The concept of nested models\n",
    "* Transformation of predictors\n",
    "* The coefficient of determination: $R^2$"
   ]
  },
  {
   "cell_type": "code",
   "execution_count": 1,
   "metadata": {},
   "outputs": [
    {
     "data": {
      "text/plain": [
       "'%.2f'"
      ]
     },
     "execution_count": 1,
     "metadata": {},
     "output_type": "execute_result"
    }
   ],
   "source": [
    "import numpy as np\n",
    "import pandas as pd\n",
    "import statsmodels.formula.api as sm\n",
    "import seaborn as sb\n",
    "import matplotlib.pyplot as plt\n",
    "pd.set_option('precision', 2)\n",
    "%precision 2"
   ]
  },
  {
   "cell_type": "code",
   "execution_count": 2,
   "metadata": {},
   "outputs": [],
   "source": [
    "data = pd.read_csv('https://raw.githubusercontent.com/AsgerAndersen/basecamp_stats_intro/master/origin_mobility.csv')"
   ]
  },
  {
   "cell_type": "markdown",
   "metadata": {},
   "source": [
    "# Linear models: Multiple predictors\n",
    "\n",
    "## Linear functions with multiple predictors\n",
    "\n",
    "A linear function with outcome $y$ and $k$ predictors $x_1,x_2...,x_k$ has the form:\n",
    "\n",
    "<p style=\"text-align: center;\"> $y(x_1,x_2,...,x_k) = \\beta_0 + \\beta_1x_1 + \\beta_2x_2 + ... + \\beta_kx_k$ </p>\n",
    "\n",
    "The parameter $\\beta_0$ is still called the intercept and is the value of $y$, when all the predictors are equal to 0. The parameters $\\beta_1,\\beta_2,...,\\beta_k$ are called the slope parameters. The $i^{th}$ slope parameter $\\beta_i$ is interpreted as the increase in the predicted outcome when the $i^{th}$ predictor $x_i$ is increased by 1 and all other predictors are held constant.\n",
    "\n",
    "**Exercise 3.1:** Write up the linear function with outcome $y$, predictors $x_1,x_2$ and $x_3$ and parameters $(\\beta_0,\\beta_1,\\beta_2,\\beta_3)=(3,2,-1,0.5)$. Calculate the outcome values with the following values of the predictors:\n",
    "\n",
    "* $(x_1,x_2,x_3)=(0,0,0)$\n",
    "* $(x_1,x_2,x_3)=(5,3,8)$\n",
    "* $(x_1,x_2,x_3)=(6,3,8)$\n",
    "* $(x_1,x_2,x_3)=(7,3,4)$"
   ]
  },
  {
   "cell_type": "markdown",
   "metadata": {},
   "source": [
    "**Answer 3.1:**"
   ]
  },
  {
   "cell_type": "markdown",
   "metadata": {},
   "source": [
    "## Linear models with multiple predictors\n",
    "\n",
    "A linear model with *mobility* as outcome and the predictors *german* and *south* has the functional form:\n",
    "\n",
    "<p style=\"text-align: center;\"> $m(g,s) = \\beta_0 + \\beta_1g + \\beta_2s$ </p>\n",
    "\n",
    "The fitted values, errors and $MSE$ can be calculated exactly the same way as with one predictor variable.\n",
    "\n",
    "**Exercise 3.2:** Let the parameters be given as $(\\beta_0,\\beta_1,\\beta_2)=(9,0.25,-5)$ in a linear model with *mobility* as outcome and *german* and *south* as predictors (where *south* is dummy coded with \"False\" as 0 and \"True\" as 1). Calculate the fitted values, errors and $MSE$ for the first three observations in the data (shown below). Execute the second and third cell below to see, if you were correct."
   ]
  },
  {
   "cell_type": "code",
   "execution_count": 3,
   "metadata": {},
   "outputs": [
    {
     "data": {
      "text/html": [
       "<div>\n",
       "<style scoped>\n",
       "    .dataframe tbody tr th:only-of-type {\n",
       "        vertical-align: middle;\n",
       "    }\n",
       "\n",
       "    .dataframe tbody tr th {\n",
       "        vertical-align: top;\n",
       "    }\n",
       "\n",
       "    .dataframe thead th {\n",
       "        text-align: right;\n",
       "    }\n",
       "</style>\n",
       "<table border=\"1\" class=\"dataframe\">\n",
       "  <thead>\n",
       "    <tr style=\"text-align: right;\">\n",
       "      <th></th>\n",
       "      <th>german</th>\n",
       "      <th>south</th>\n",
       "      <th>mobility</th>\n",
       "    </tr>\n",
       "  </thead>\n",
       "  <tbody>\n",
       "    <tr>\n",
       "      <th>0</th>\n",
       "      <td>13.41</td>\n",
       "      <td>True</td>\n",
       "      <td>6.22</td>\n",
       "    </tr>\n",
       "    <tr>\n",
       "      <th>1</th>\n",
       "      <td>9.91</td>\n",
       "      <td>True</td>\n",
       "      <td>5.37</td>\n",
       "    </tr>\n",
       "    <tr>\n",
       "      <th>2</th>\n",
       "      <td>8.36</td>\n",
       "      <td>True</td>\n",
       "      <td>7.26</td>\n",
       "    </tr>\n",
       "  </tbody>\n",
       "</table>\n",
       "</div>"
      ],
      "text/plain": [
       "   german  south  mobility\n",
       "0   13.41   True      6.22\n",
       "1    9.91   True      5.37\n",
       "2    8.36   True      7.26"
      ]
     },
     "execution_count": 3,
     "metadata": {},
     "output_type": "execute_result"
    }
   ],
   "source": [
    "data.loc[0:2,['german','south','mobility']]"
   ]
  },
  {
   "cell_type": "markdown",
   "metadata": {},
   "source": [
    "**Answer 3.2:**"
   ]
  },
  {
   "cell_type": "code",
   "execution_count": 4,
   "metadata": {},
   "outputs": [
    {
     "data": {
      "text/html": [
       "<div>\n",
       "<style scoped>\n",
       "    .dataframe tbody tr th:only-of-type {\n",
       "        vertical-align: middle;\n",
       "    }\n",
       "\n",
       "    .dataframe tbody tr th {\n",
       "        vertical-align: top;\n",
       "    }\n",
       "\n",
       "    .dataframe thead th {\n",
       "        text-align: right;\n",
       "    }\n",
       "</style>\n",
       "<table border=\"1\" class=\"dataframe\">\n",
       "  <thead>\n",
       "    <tr style=\"text-align: right;\">\n",
       "      <th></th>\n",
       "      <th>german</th>\n",
       "      <th>south</th>\n",
       "      <th>mobility</th>\n",
       "      <th>fitted_mobility</th>\n",
       "      <th>error</th>\n",
       "    </tr>\n",
       "  </thead>\n",
       "  <tbody>\n",
       "    <tr>\n",
       "      <th>0</th>\n",
       "      <td>13.41</td>\n",
       "      <td>True</td>\n",
       "      <td>6.22</td>\n",
       "      <td>7.35</td>\n",
       "      <td>-1.13</td>\n",
       "    </tr>\n",
       "    <tr>\n",
       "      <th>1</th>\n",
       "      <td>9.91</td>\n",
       "      <td>True</td>\n",
       "      <td>5.37</td>\n",
       "      <td>6.48</td>\n",
       "      <td>-1.11</td>\n",
       "    </tr>\n",
       "    <tr>\n",
       "      <th>2</th>\n",
       "      <td>8.36</td>\n",
       "      <td>True</td>\n",
       "      <td>7.26</td>\n",
       "      <td>6.09</td>\n",
       "      <td>1.17</td>\n",
       "    </tr>\n",
       "  </tbody>\n",
       "</table>\n",
       "</div>"
      ],
      "text/plain": [
       "   german  south  mobility  fitted_mobility  error\n",
       "0   13.41   True      6.22             7.35  -1.13\n",
       "1    9.91   True      5.37             6.48  -1.11\n",
       "2    8.36   True      7.26             6.09   1.17"
      ]
     },
     "execution_count": 4,
     "metadata": {},
     "output_type": "execute_result"
    }
   ],
   "source": [
    "data['fitted_mobility'] = 9 + 0.25*data['german'] - 5*data['south']\n",
    "data['error'] = data['mobility'] - data['fitted_mobility']\n",
    "data.loc[0:2,['german','south','mobility','fitted_mobility','error']]"
   ]
  },
  {
   "cell_type": "code",
   "execution_count": 5,
   "metadata": {},
   "outputs": [
    {
     "name": "stdout",
     "output_type": "stream",
     "text": [
      "MSE: 1.3\n"
     ]
    }
   ],
   "source": [
    "print('MSE: {}'.format(np.round(data.loc[0:2,'error'].pow(2).mean(),2)))"
   ]
  },
  {
   "cell_type": "markdown",
   "metadata": {},
   "source": [
    "**Exercise 3.3:** The model with $(\\beta_0,\\beta_1,\\beta_2)=(9,0.25,-5)$ has $MSE$:"
   ]
  },
  {
   "cell_type": "code",
   "execution_count": 6,
   "metadata": {},
   "outputs": [
    {
     "data": {
      "text/plain": [
       "38.97"
      ]
     },
     "execution_count": 6,
     "metadata": {},
     "output_type": "execute_result"
    }
   ],
   "source": [
    "data['error'].pow(2).mean()"
   ]
  },
  {
   "cell_type": "markdown",
   "metadata": {},
   "source": [
    "whereas a model with $(\\beta_0,\\beta_1,\\beta_2)=(6,0.5,-6)$ has $MSE:$"
   ]
  },
  {
   "cell_type": "code",
   "execution_count": 7,
   "metadata": {},
   "outputs": [
    {
     "data": {
      "text/plain": [
       "98.47"
      ]
     },
     "execution_count": 7,
     "metadata": {},
     "output_type": "execute_result"
    }
   ],
   "source": [
    "data['error_f2'] = data['mobility'] - (6 + 0.5*data['german'] - 6*data['south'])\n",
    "data['error_f2'].pow(2).mean()"
   ]
  },
  {
   "cell_type": "markdown",
   "metadata": {},
   "source": [
    "Which model is the best fit to the data according to the fitting criteria used in linear regression?"
   ]
  },
  {
   "cell_type": "markdown",
   "metadata": {},
   "source": [
    "**Answer 3.3:** "
   ]
  },
  {
   "cell_type": "markdown",
   "metadata": {},
   "source": [
    "**Exercise 3.4:** The linear model found by linearly regressing $mobility$ on the predictors $german$ and $south$ has the parameters:"
   ]
  },
  {
   "cell_type": "code",
   "execution_count": 8,
   "metadata": {},
   "outputs": [
    {
     "data": {
      "text/plain": [
       "Intercept        6.80\n",
       "south[T.True]   -1.02\n",
       "german           0.15\n",
       "dtype: float64"
      ]
     },
     "execution_count": 8,
     "metadata": {},
     "output_type": "execute_result"
    }
   ],
   "source": [
    "mob_ger_south = sm.ols('mobility~german+south',data).fit()\n",
    "mob_ger_south.params"
   ]
  },
  {
   "cell_type": "markdown",
   "metadata": {},
   "source": [
    "which we denote $(\\beta_0,\\beta_1,\\beta_2)=(6.80,0.15,-1.02)$. Write up the resulting linear function. "
   ]
  },
  {
   "cell_type": "markdown",
   "metadata": {},
   "source": [
    "**Answer 3.4 (part 1):**"
   ]
  },
  {
   "cell_type": "markdown",
   "metadata": {},
   "source": [
    "**Exercise 3.4 (continued):** What is the predicted *mobility* of a southern commuting zone with a german population share of 10 percent? What about a non-southern commuting zone with the same german population share? What is the predicted *mobility* of a southern commuting zone with a german population of 5 percent? What about a southern commuting zone with a german population share of 6 percent?"
   ]
  },
  {
   "cell_type": "markdown",
   "metadata": {},
   "source": [
    "**Answer 3.4 (part 2):**"
   ]
  },
  {
   "cell_type": "markdown",
   "metadata": {},
   "source": [
    "**Exercise 3.4 (continued):** What is the interpretation of each of the parameters $\\beta_0,\\beta_1$ and $\\beta_2$?"
   ]
  },
  {
   "cell_type": "markdown",
   "metadata": {},
   "source": [
    "**Answer 3.4 (part 3):**"
   ]
  },
  {
   "cell_type": "markdown",
   "metadata": {},
   "source": [
    "**Exercise 3.4 (continued):** The model has an $MSE$ of:"
   ]
  },
  {
   "cell_type": "code",
   "execution_count": 9,
   "metadata": {},
   "outputs": [
    {
     "data": {
      "text/plain": [
       "21.23"
      ]
     },
     "execution_count": 9,
     "metadata": {},
     "output_type": "execute_result"
    }
   ],
   "source": [
    "mob_ger_south.resid.pow(2).mean()"
   ]
  },
  {
   "cell_type": "markdown",
   "metadata": {},
   "source": [
    "What do we know about the $MSE$ of any other linear model with *mobility* as outcome and *german* and *south* as predictors?"
   ]
  },
  {
   "cell_type": "markdown",
   "metadata": {},
   "source": [
    "**Answer 3.4 (part 4):**"
   ]
  },
  {
   "cell_type": "markdown",
   "metadata": {},
   "source": [
    "# Nested models\n",
    "\n",
    "One linear model A is said to be nested inside another linear model B, if the models have the same outcome variable, and the predictors in model A is a subset of the predictors in model B.\n",
    "\n",
    "**Exercise 3.5:** Consider the following models:\n",
    "* Model A: Linear model with *mobility* as outcome and *german* as predictor. $m(g) = \\beta_0 + \\beta_1 g$\n",
    "* Model B: Linear model with *mobility* as outcome and *southern* as predictor. $m(s) = \\beta_0 + \\beta_1 s$\n",
    "* Model C: Linear model with *mobility* as outcome and *german* as predictor. $m(s,g) = \\beta_0 + \\beta_1 g + \\beta_2 s$\n",
    "\n",
    "For each pair of models (A & B, A & C, B & C), decide whether one of the models is nested in the other model."
   ]
  },
  {
   "cell_type": "markdown",
   "metadata": {},
   "source": [
    "**Answer 3.5:**"
   ]
  },
  {
   "cell_type": "markdown",
   "metadata": {},
   "source": [
    "**Exercise 3.6:** Another definition of nested models is that a linear model A is nested inside a linear model B, if model A can be obtained by setting some of the parameters in model B equal to 0. Why is this definition equivalent to the one I gave above?"
   ]
  },
  {
   "cell_type": "markdown",
   "metadata": {},
   "source": [
    "**Answer 3.6:**"
   ]
  },
  {
   "cell_type": "markdown",
   "metadata": {},
   "source": [
    "**Exercise 3.7:** Consider two models A and B, where A is nested inside of B. We use linear regression to fit both models on a given dataset, and we denote the $MSE$'s of the resulting models for $MSE_A$ and $MSE_B$. It is a mathematical fact that because A is nested inside of B, then $MSE_A$ is necessarily larger than $MSE_B$. Can you think of any arguments for why this is the case? Note that I am asking for informal arguments, not a strict mathematical proof. *Hint:* Because A is nested inside of $B$, we know that we can get model A by setting some of the parameters in model B equal to 0. Why does this imply that the minimal possible $MSE$ of model A must be larger than the minimal possible $MSE$ of model B?"
   ]
  },
  {
   "cell_type": "markdown",
   "metadata": {},
   "source": [
    "**Answer 3.7:**"
   ]
  },
  {
   "cell_type": "markdown",
   "metadata": {},
   "source": [
    "# Coefficient of determination: $R^2$\n",
    "\n",
    "The model from the exercise above has $MSE=21.23$. The variance of the model's outcome variable, *mobility*, is $\\sigma(m)=28.05$. The model therefore has a coefficient of determination - denoted by $R^2$ - of:\n",
    "\n",
    "<p style=\"text-align: center;\"> $R^2 = \\frac{\\sigma(m) - MSE}{\\sigma(m)} = \\frac{28.05 - 21.23}{28.05} = 0.24$  </p>\n",
    "\n",
    "In general, the formula for the coefficient of determination of a linear model with a given $MSE$ and outcome variable $y$ is given as:\n",
    "\n",
    "<p style=\"text-align: center;\"> $R^2 = \\frac{\\sigma(y) - MSE}{\\sigma(y)}$  </p>\n",
    "\n",
    "The variance of a linear model's outcome variable is always larger than the model's $MSE$. You don't have to understand why, but the argument is actually not that complicated, so if you are interested you can try to look it up on the internet or ask me or one of the teaching assistants. Otherwise, just take it as a given. \n",
    "\n",
    "**Exercise 3.8:** Look at the formula for $R^2$ and use it - given what you know about $MSE$, the outcome's variance and linear regression - to explain the following properties of $R^2$: \n",
    "* $R^2$ is always between 0 and 1.\n",
    "* If a linear model A has a smaller $MSE$ than another linear model B with the same outcome, then model A will have a larger $R^2$ than model B.\n",
    "* Linear regression with a given outcome and some given predictors finds the linear model with the maximal $R^2$ out of all possible linear models with this outcome and these predictors. That is, finding the linear model that minimizes $MSE$ is the same as finding the linear model that maximizes $R^2$.\n",
    "* If a linear model A is nested inside another linear model B, then model A will have a smaller $R^2$ than model B."
   ]
  },
  {
   "cell_type": "markdown",
   "metadata": {},
   "source": [
    "**Answer 3.8:**"
   ]
  },
  {
   "cell_type": "markdown",
   "metadata": {},
   "source": [
    "**Exercise 3.9:** The last two bullet points in the exercise above imply that it does not matter if we think of linear regression as finding the linear model that minimizes $MSE$ or, alternatively, the linear model that maximizes $R^2$, since the two criterias result in the same model. The advantage of thinking in terms of minimizing $MSE$ is that $MSE$ is a simpler measure than $R^2$ in the sense that $R^2$ is defined via $MSE$. However, the advantage of thinking in terms of maximizing $R^2$ is that $R^2$ is a more interpretable measure. This is because a linear model's $R^2$ can be thought of as the percentage of the variance in the model's outcome variable that is explained by the model. Can you think of any arguments for why this is a reasonable interpretation? If not, then try to read [this page](https://www.khanacademy.org/math/ap-statistics/bivariate-data-ap/assessing-fit-least-squares-regression/a/r-squared-intuition) and see if you can follow the logic."
   ]
  },
  {
   "cell_type": "markdown",
   "metadata": {},
   "source": [
    "**Answer 3.9:**"
   ]
  },
  {
   "cell_type": "markdown",
   "metadata": {},
   "source": [
    "# Transformation of predictors\n",
    "\n",
    "We can use linear models to model non-linear relationships between the outcome and the predictors by making non-linear transformations on the predictors. Let's for instance say that we wanted to model how the *british* variable predicts the *mobility* variable. A linear regression with *mobility* as outcome and *british* as predictor results in the model seen in the plot below:"
   ]
  },
  {
   "cell_type": "code",
   "execution_count": 10,
   "metadata": {},
   "outputs": [
    {
     "data": {
      "image/png": "[encoded data removed]",
      "text/plain": [
       "<Figure size 432x288 with 1 Axes>"
      ]
     },
     "metadata": {
      "needs_background": "light"
     },
     "output_type": "display_data"
    }
   ],
   "source": [
    "sb.regplot('british','mobility',data=data,ci=None,scatter_kws={'alpha':0.2},line_kws={'color':'black'});"
   ]
  },
  {
   "cell_type": "markdown",
   "metadata": {},
   "source": [
    "However, we might think that the data looks like that a model with squared *british* variable would be a better fit. Thus, instead of using linear regression to fit this model: \n",
    "\n",
    "<p style=\"text-align: center;\"> $m(b) = \\beta_0 + \\beta_1 b$  </p>\n",
    "\n",
    "we can choose to use linear regression fit this alternative model:\n",
    "\n",
    "<p style=\"text-align: center;\"> $m(b) = \\beta_0 +\\beta_1 b +\\beta_2 b^2$  </p>\n",
    "\n",
    "which results in the model plotted below:"
   ]
  },
  {
   "cell_type": "code",
   "execution_count": 11,
   "metadata": {},
   "outputs": [
    {
     "data": {
      "text/plain": [
       "[<matplotlib.lines.Line2D at 0x205609e1e80>]"
      ]
     },
     "execution_count": 11,
     "metadata": {},
     "output_type": "execute_result"
    },
    {
     "data": {
      "image/png": "[encoded data removed]",
      "text/plain": [
       "<Figure size 432x288 with 1 Axes>"
      ]
     },
     "metadata": {
      "needs_background": "light"
     },
     "output_type": "display_data"
    }
   ],
   "source": [
    "data['british_squared'] = data['british']**2\n",
    "mob_brit2 = sm.ols('mobility~british+british_squared',data=data).fit()\n",
    "mob_brit2_res = data[['british']].copy()\n",
    "mob_brit2_res['mobility'] = mob_brit2.predict()\n",
    "mob_brit2_res = mob_brit2_res.sort_values('british')\n",
    "ax_squared = sb.scatterplot('british','mobility',data=data,alpha=0.2)\n",
    "ax_squared.plot(mob_brit2_res['british'],mob_brit2_res['mobility'],color='black')"
   ]
  },
  {
   "cell_type": "markdown",
   "metadata": {},
   "source": [
    "All we have to do to fit the model with the squared *british* term is to calculate a new variable in our dataset, which contains the squared values of the *british* variable:"
   ]
  },
  {
   "cell_type": "code",
   "execution_count": 12,
   "metadata": {},
   "outputs": [
    {
     "data": {
      "text/html": [
       "<div>\n",
       "<style scoped>\n",
       "    .dataframe tbody tr th:only-of-type {\n",
       "        vertical-align: middle;\n",
       "    }\n",
       "\n",
       "    .dataframe tbody tr th {\n",
       "        vertical-align: top;\n",
       "    }\n",
       "\n",
       "    .dataframe thead th {\n",
       "        text-align: right;\n",
       "    }\n",
       "</style>\n",
       "<table border=\"1\" class=\"dataframe\">\n",
       "  <thead>\n",
       "    <tr style=\"text-align: right;\">\n",
       "      <th></th>\n",
       "      <th>mobility</th>\n",
       "      <th>british</th>\n",
       "      <th>british_squared</th>\n",
       "    </tr>\n",
       "  </thead>\n",
       "  <tbody>\n",
       "    <tr>\n",
       "      <th>0</th>\n",
       "      <td>6.22</td>\n",
       "      <td>43.81</td>\n",
       "      <td>1919.52</td>\n",
       "    </tr>\n",
       "    <tr>\n",
       "      <th>1</th>\n",
       "      <td>5.37</td>\n",
       "      <td>40.15</td>\n",
       "      <td>1611.72</td>\n",
       "    </tr>\n",
       "    <tr>\n",
       "      <th>2</th>\n",
       "      <td>7.26</td>\n",
       "      <td>41.81</td>\n",
       "      <td>1748.38</td>\n",
       "    </tr>\n",
       "    <tr>\n",
       "      <th>3</th>\n",
       "      <td>5.63</td>\n",
       "      <td>39.54</td>\n",
       "      <td>1563.68</td>\n",
       "    </tr>\n",
       "    <tr>\n",
       "      <th>4</th>\n",
       "      <td>4.48</td>\n",
       "      <td>37.26</td>\n",
       "      <td>1388.09</td>\n",
       "    </tr>\n",
       "  </tbody>\n",
       "</table>\n",
       "</div>"
      ],
      "text/plain": [
       "   mobility  british  british_squared\n",
       "0      6.22    43.81          1919.52\n",
       "1      5.37    40.15          1611.72\n",
       "2      7.26    41.81          1748.38\n",
       "3      5.63    39.54          1563.68\n",
       "4      4.48    37.26          1388.09"
      ]
     },
     "execution_count": 12,
     "metadata": {},
     "output_type": "execute_result"
    }
   ],
   "source": [
    "data['british_squared'] = data['british']**2\n",
    "data[['mobility','british','british_squared']].head()"
   ]
  },
  {
   "cell_type": "markdown",
   "metadata": {},
   "source": [
    "The *british_squared* variable is - from a statistical point of view - just another variable, and therefore we can include it in a linear regression model as just another predictor. Concretely, if we run linear regression with the model\n",
    "\n",
    "<p style=\"text-align: center;\"> $m(b) = \\beta_0 +\\beta_1 b +\\beta_2 b^2$  </p>\n",
    "\n",
    "we get the following fitted parameter values:"
   ]
  },
  {
   "cell_type": "code",
   "execution_count": 13,
   "metadata": {},
   "outputs": [
    {
     "data": {
      "text/plain": [
       "Intercept          22.30\n",
       "british            -0.74\n",
       "british_squared     0.01\n",
       "dtype: float64"
      ]
     },
     "execution_count": 13,
     "metadata": {},
     "output_type": "execute_result"
    }
   ],
   "source": [
    "mob_brit2 = sm.ols('mobility~british+british_squared',data=data).fit()\n",
    "mob_brit2.params.round(2)"
   ]
  },
  {
   "cell_type": "markdown",
   "metadata": {},
   "source": [
    "which means that the resulting model has the functional form (this is the model that is plotted above):\n",
    "\n",
    "<p style=\"text-align: center;\"> $m(b) = 22.30 - 0.74 b + 0.01 b^2$  </p>"
   ]
  },
  {
   "cell_type": "markdown",
   "metadata": {},
   "source": [
    "**Exercise 3.10:** What *mobility* value does this model predict for a commuting zone with a 10 percent british population share?"
   ]
  },
  {
   "cell_type": "markdown",
   "metadata": {},
   "source": [
    "**Answer 3.10:**"
   ]
  },
  {
   "cell_type": "markdown",
   "metadata": {},
   "source": [
    "As you see from this example, linear regression models are actually a quite flexible modelling framework, because they can model all kinds of non-linear relationships by making non-linear transformations on the predictors (e.g. squaring the *british* variable). Thus, a researcher using linear regression models needs to balance choosing a model that seems to fit the given data well with the simplicity of the model and its generalizability to similar, but unobserved datasets. Actually, this is not specific to linear regression models, but a general theme of doing quantitative modelling and you will learn much more about this in later courses. \n",
    "\n",
    "**Exercise 3.11:** Try to understand how a linear regression with transformed predictors (e.g. a squared term) is - statistically speaking - not substantially different from a linear model without transformed predictors. In particular, try to understand how the principle of finding the best fitting model by minimizing $MSE$ works the same way with and without transformed predictors. You can for instance start by understanding how the fitted values, errors and $MSE$ are calculated with transformed predictors (as said, it is the same as without, but it is still useful to work through some examples)."
   ]
  },
  {
   "cell_type": "markdown",
   "metadata": {},
   "source": [
    "**Answer 3.11:**"
   ]
  },
  {
   "cell_type": "markdown",
   "metadata": {},
   "source": [
    "# Extra\n",
    "\n",
    "**Extra exercise:** Try to fit some linear regression models to [a dataset from the sklearn library](https://scikit-learn.org/stable/datasets/). You have to choose a numerical variable from the data as outcome and one or more numerical or categorical variable as predictors. You can even play around with transforming some of the predictors, if you think that would be interesting. Then make new code cells and try to make something similar to the code below (which you have seen earlier in this workshop) work on the new data."
   ]
  },
  {
   "cell_type": "code",
   "execution_count": 14,
   "metadata": {},
   "outputs": [
    {
     "data": {
      "text/plain": [
       "Intercept        6.80\n",
       "south[T.True]   -1.02\n",
       "german           0.15\n",
       "dtype: float64"
      ]
     },
     "execution_count": 14,
     "metadata": {},
     "output_type": "execute_result"
    }
   ],
   "source": [
    "mob_ger_south = sm.ols('mobility~german+south',data).fit()\n",
    "mob_ger_south.params"
   ]
  },
  {
   "cell_type": "markdown",
   "metadata": {},
   "source": [
    "How can you interpret the fitted parameters of the resulting model? Remember to also use the visualizations and statistical measures, you have learned about in the first lecture, to explore the distributions of and relationship between the variables, you choose to work with. You should do this, before you fit any linear regression model to the data."
   ]
  },
  {
   "cell_type": "code",
   "execution_count": 15,
   "metadata": {},
   "outputs": [],
   "source": [
    "#The code below shows how to load two datasets, one about housing prices in Boston and the other about wine.\n",
    "\n",
    "#You can choose to work with one of these datasets or see if you find another dataset from the sklearn library more \n",
    "#interesting\n",
    "\n",
    "#All the datasets from sklearn (including the housing prices and wine data) \n",
    "#are described on https://scikit-learn.org/stable/datasets/).\n",
    "\n",
    "from sklearn.datasets import load_boston, load_wine\n",
    "boston = load_boston()\n",
    "prices = boston['target']\n",
    "boston = pd.DataFrame(boston['data'],columns=boston['feature_names'])\n",
    "boston['PRIC'] = prices\n",
    "wine = load_wine()\n",
    "wine_types = wine['target']\n",
    "wine = pd.DataFrame(wine['data'],columns=wine['feature_names'])\n",
    "wine['wine_type'] = wine_types"
   ]
  },
  {
   "cell_type": "code",
   "execution_count": 16,
   "metadata": {},
   "outputs": [
    {
     "data": {
      "text/html": [
       "<div>\n",
       "<style scoped>\n",
       "    .dataframe tbody tr th:only-of-type {\n",
       "        vertical-align: middle;\n",
       "    }\n",
       "\n",
       "    .dataframe tbody tr th {\n",
       "        vertical-align: top;\n",
       "    }\n",
       "\n",
       "    .dataframe thead th {\n",
       "        text-align: right;\n",
       "    }\n",
       "</style>\n",
       "<table border=\"1\" class=\"dataframe\">\n",
       "  <thead>\n",
       "    <tr style=\"text-align: right;\">\n",
       "      <th></th>\n",
       "      <th>CRIM</th>\n",
       "      <th>ZN</th>\n",
       "      <th>INDUS</th>\n",
       "      <th>CHAS</th>\n",
       "      <th>NOX</th>\n",
       "      <th>RM</th>\n",
       "      <th>AGE</th>\n",
       "      <th>DIS</th>\n",
       "      <th>RAD</th>\n",
       "      <th>TAX</th>\n",
       "      <th>PTRATIO</th>\n",
       "      <th>B</th>\n",
       "      <th>LSTAT</th>\n",
       "      <th>PRIC</th>\n",
       "    </tr>\n",
       "  </thead>\n",
       "  <tbody>\n",
       "    <tr>\n",
       "      <th>0</th>\n",
       "      <td>6.32e-03</td>\n",
       "      <td>18.0</td>\n",
       "      <td>2.31</td>\n",
       "      <td>0.0</td>\n",
       "      <td>0.54</td>\n",
       "      <td>6.58</td>\n",
       "      <td>65.2</td>\n",
       "      <td>4.09</td>\n",
       "      <td>1.0</td>\n",
       "      <td>296.0</td>\n",
       "      <td>15.3</td>\n",
       "      <td>396.90</td>\n",
       "      <td>4.98</td>\n",
       "      <td>24.0</td>\n",
       "    </tr>\n",
       "    <tr>\n",
       "      <th>1</th>\n",
       "      <td>2.73e-02</td>\n",
       "      <td>0.0</td>\n",
       "      <td>7.07</td>\n",
       "      <td>0.0</td>\n",
       "      <td>0.47</td>\n",
       "      <td>6.42</td>\n",
       "      <td>78.9</td>\n",
       "      <td>4.97</td>\n",
       "      <td>2.0</td>\n",
       "      <td>242.0</td>\n",
       "      <td>17.8</td>\n",
       "      <td>396.90</td>\n",
       "      <td>9.14</td>\n",
       "      <td>21.6</td>\n",
       "    </tr>\n",
       "    <tr>\n",
       "      <th>2</th>\n",
       "      <td>2.73e-02</td>\n",
       "      <td>0.0</td>\n",
       "      <td>7.07</td>\n",
       "      <td>0.0</td>\n",
       "      <td>0.47</td>\n",
       "      <td>7.18</td>\n",
       "      <td>61.1</td>\n",
       "      <td>4.97</td>\n",
       "      <td>2.0</td>\n",
       "      <td>242.0</td>\n",
       "      <td>17.8</td>\n",
       "      <td>392.83</td>\n",
       "      <td>4.03</td>\n",
       "      <td>34.7</td>\n",
       "    </tr>\n",
       "    <tr>\n",
       "      <th>3</th>\n",
       "      <td>3.24e-02</td>\n",
       "      <td>0.0</td>\n",
       "      <td>2.18</td>\n",
       "      <td>0.0</td>\n",
       "      <td>0.46</td>\n",
       "      <td>7.00</td>\n",
       "      <td>45.8</td>\n",
       "      <td>6.06</td>\n",
       "      <td>3.0</td>\n",
       "      <td>222.0</td>\n",
       "      <td>18.7</td>\n",
       "      <td>394.63</td>\n",
       "      <td>2.94</td>\n",
       "      <td>33.4</td>\n",
       "    </tr>\n",
       "    <tr>\n",
       "      <th>4</th>\n",
       "      <td>6.91e-02</td>\n",
       "      <td>0.0</td>\n",
       "      <td>2.18</td>\n",
       "      <td>0.0</td>\n",
       "      <td>0.46</td>\n",
       "      <td>7.15</td>\n",
       "      <td>54.2</td>\n",
       "      <td>6.06</td>\n",
       "      <td>3.0</td>\n",
       "      <td>222.0</td>\n",
       "      <td>18.7</td>\n",
       "      <td>396.90</td>\n",
       "      <td>5.33</td>\n",
       "      <td>36.2</td>\n",
       "    </tr>\n",
       "  </tbody>\n",
       "</table>\n",
       "</div>"
      ],
      "text/plain": [
       "       CRIM    ZN  INDUS  CHAS   NOX    RM   AGE   DIS  RAD    TAX  PTRATIO  \\\n",
       "0  6.32e-03  18.0   2.31   0.0  0.54  6.58  65.2  4.09  1.0  296.0     15.3   \n",
       "1  2.73e-02   0.0   7.07   0.0  0.47  6.42  78.9  4.97  2.0  242.0     17.8   \n",
       "2  2.73e-02   0.0   7.07   0.0  0.47  7.18  61.1  4.97  2.0  242.0     17.8   \n",
       "3  3.24e-02   0.0   2.18   0.0  0.46  7.00  45.8  6.06  3.0  222.0     18.7   \n",
       "4  6.91e-02   0.0   2.18   0.0  0.46  7.15  54.2  6.06  3.0  222.0     18.7   \n",
       "\n",
       "        B  LSTAT  PRIC  \n",
       "0  396.90   4.98  24.0  \n",
       "1  396.90   9.14  21.6  \n",
       "2  392.83   4.03  34.7  \n",
       "3  394.63   2.94  33.4  \n",
       "4  396.90   5.33  36.2  "
      ]
     },
     "execution_count": 16,
     "metadata": {},
     "output_type": "execute_result"
    }
   ],
   "source": [
    "boston.head()"
   ]
  },
  {
   "cell_type": "code",
   "execution_count": 17,
   "metadata": {},
   "outputs": [
    {
     "data": {
      "text/html": [
       "<div>\n",
       "<style scoped>\n",
       "    .dataframe tbody tr th:only-of-type {\n",
       "        vertical-align: middle;\n",
       "    }\n",
       "\n",
       "    .dataframe tbody tr th {\n",
       "        vertical-align: top;\n",
       "    }\n",
       "\n",
       "    .dataframe thead th {\n",
       "        text-align: right;\n",
       "    }\n",
       "</style>\n",
       "<table border=\"1\" class=\"dataframe\">\n",
       "  <thead>\n",
       "    <tr style=\"text-align: right;\">\n",
       "      <th></th>\n",
       "      <th>alcohol</th>\n",
       "      <th>malic_acid</th>\n",
       "      <th>ash</th>\n",
       "      <th>alcalinity_of_ash</th>\n",
       "      <th>magnesium</th>\n",
       "      <th>total_phenols</th>\n",
       "      <th>flavanoids</th>\n",
       "      <th>nonflavanoid_phenols</th>\n",
       "      <th>proanthocyanins</th>\n",
       "      <th>color_intensity</th>\n",
       "      <th>hue</th>\n",
       "      <th>od280/od315_of_diluted_wines</th>\n",
       "      <th>proline</th>\n",
       "      <th>wine_type</th>\n",
       "    </tr>\n",
       "  </thead>\n",
       "  <tbody>\n",
       "    <tr>\n",
       "      <th>0</th>\n",
       "      <td>14.23</td>\n",
       "      <td>1.71</td>\n",
       "      <td>2.43</td>\n",
       "      <td>15.6</td>\n",
       "      <td>127.0</td>\n",
       "      <td>2.80</td>\n",
       "      <td>3.06</td>\n",
       "      <td>0.28</td>\n",
       "      <td>2.29</td>\n",
       "      <td>5.64</td>\n",
       "      <td>1.04</td>\n",
       "      <td>3.92</td>\n",
       "      <td>1065.0</td>\n",
       "      <td>0</td>\n",
       "    </tr>\n",
       "    <tr>\n",
       "      <th>1</th>\n",
       "      <td>13.20</td>\n",
       "      <td>1.78</td>\n",
       "      <td>2.14</td>\n",
       "      <td>11.2</td>\n",
       "      <td>100.0</td>\n",
       "      <td>2.65</td>\n",
       "      <td>2.76</td>\n",
       "      <td>0.26</td>\n",
       "      <td>1.28</td>\n",
       "      <td>4.38</td>\n",
       "      <td>1.05</td>\n",
       "      <td>3.40</td>\n",
       "      <td>1050.0</td>\n",
       "      <td>0</td>\n",
       "    </tr>\n",
       "    <tr>\n",
       "      <th>2</th>\n",
       "      <td>13.16</td>\n",
       "      <td>2.36</td>\n",
       "      <td>2.67</td>\n",
       "      <td>18.6</td>\n",
       "      <td>101.0</td>\n",
       "      <td>2.80</td>\n",
       "      <td>3.24</td>\n",
       "      <td>0.30</td>\n",
       "      <td>2.81</td>\n",
       "      <td>5.68</td>\n",
       "      <td>1.03</td>\n",
       "      <td>3.17</td>\n",
       "      <td>1185.0</td>\n",
       "      <td>0</td>\n",
       "    </tr>\n",
       "    <tr>\n",
       "      <th>3</th>\n",
       "      <td>14.37</td>\n",
       "      <td>1.95</td>\n",
       "      <td>2.50</td>\n",
       "      <td>16.8</td>\n",
       "      <td>113.0</td>\n",
       "      <td>3.85</td>\n",
       "      <td>3.49</td>\n",
       "      <td>0.24</td>\n",
       "      <td>2.18</td>\n",
       "      <td>7.80</td>\n",
       "      <td>0.86</td>\n",
       "      <td>3.45</td>\n",
       "      <td>1480.0</td>\n",
       "      <td>0</td>\n",
       "    </tr>\n",
       "    <tr>\n",
       "      <th>4</th>\n",
       "      <td>13.24</td>\n",
       "      <td>2.59</td>\n",
       "      <td>2.87</td>\n",
       "      <td>21.0</td>\n",
       "      <td>118.0</td>\n",
       "      <td>2.80</td>\n",
       "      <td>2.69</td>\n",
       "      <td>0.39</td>\n",
       "      <td>1.82</td>\n",
       "      <td>4.32</td>\n",
       "      <td>1.04</td>\n",
       "      <td>2.93</td>\n",
       "      <td>735.0</td>\n",
       "      <td>0</td>\n",
       "    </tr>\n",
       "  </tbody>\n",
       "</table>\n",
       "</div>"
      ],
      "text/plain": [
       "   alcohol  malic_acid   ash  alcalinity_of_ash  magnesium  total_phenols  \\\n",
       "0    14.23        1.71  2.43               15.6      127.0           2.80   \n",
       "1    13.20        1.78  2.14               11.2      100.0           2.65   \n",
       "2    13.16        2.36  2.67               18.6      101.0           2.80   \n",
       "3    14.37        1.95  2.50               16.8      113.0           3.85   \n",
       "4    13.24        2.59  2.87               21.0      118.0           2.80   \n",
       "\n",
       "   flavanoids  nonflavanoid_phenols  proanthocyanins  color_intensity   hue  \\\n",
       "0        3.06                  0.28             2.29             5.64  1.04   \n",
       "1        2.76                  0.26             1.28             4.38  1.05   \n",
       "2        3.24                  0.30             2.81             5.68  1.03   \n",
       "3        3.49                  0.24             2.18             7.80  0.86   \n",
       "4        2.69                  0.39             1.82             4.32  1.04   \n",
       "\n",
       "   od280/od315_of_diluted_wines  proline  wine_type  \n",
       "0                          3.92   1065.0          0  \n",
       "1                          3.40   1050.0          0  \n",
       "2                          3.17   1185.0          0  \n",
       "3                          3.45   1480.0          0  \n",
       "4                          2.93    735.0          0  "
      ]
     },
     "execution_count": 17,
     "metadata": {},
     "output_type": "execute_result"
    }
   ],
   "source": [
    "wine.head()"
   ]
  }
 ],
 "metadata": {
  "kernelspec": {
   "display_name": "Python 3",
   "language": "python",
   "name": "python3"
  },
  "language_info": {
   "codemirror_mode": {
    "name": "ipython",
    "version": 3
   },
   "file_extension": ".py",
   "mimetype": "text/x-python",
   "name": "python",
   "nbconvert_exporter": "python",
   "pygments_lexer": "ipython3",
   "version": "3.8.3"
  }
 },
 "nbformat": 4,
 "nbformat_minor": 4
}
